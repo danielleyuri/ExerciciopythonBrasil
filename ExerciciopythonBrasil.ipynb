{
  "nbformat": 4,
  "nbformat_minor": 0,
  "metadata": {
    "colab": {
      "name": "ExerciciopythonBrasil.ipynb",
      "provenance": [],
      "authorship_tag": "ABX9TyPuXRSdsVNF3s4lceCMXGqx",
      "include_colab_link": true
    },
    "kernelspec": {
      "name": "python3",
      "display_name": "Python 3"
    },
    "language_info": {
      "name": "python"
    }
  },
  "cells": [
    {
      "cell_type": "markdown",
      "metadata": {
        "id": "view-in-github",
        "colab_type": "text"
      },
      "source": [
        "<a href=\"https://colab.research.google.com/github/danielleyuri/ExerciciopythonBrasil/blob/https%2Fgithub.com%2Fdanielleyuri%2Fdanielleyuri.git/ExerciciopythonBrasil.ipynb\" target=\"_parent\"><img src=\"https://colab.research.google.com/assets/colab-badge.svg\" alt=\"Open In Colab\"/></a>"
      ]
    },
    {
      "cell_type": "markdown",
      "metadata": {
        "id": "S4WgbIFokbLF"
      },
      "source": [
        "Jogo da Forca"
      ]
    },
    {
      "cell_type": "code",
      "metadata": {
        "id": "4trHWP-0kX2G"
      },
      "source": [
        "palavra = 'digite a palavra para o jogo começar'.upper()\n",
        "\n",
        "print('Jogo da Forca')\n",
        "print('Descubra a palavra')\n",
        "\n",
        "print('A palavra é: ', end='')\n",
        "for letra in palavra:\n",
        "   print(' _ ', end='')\n",
        "\n",
        "conjunto_letras_palavra = set(palavra)\n",
        "conjunto_letras_digitadas = set()\n",
        "erros = 0\n",
        "\n",
        "\n",
        "while (not conjunto_letras_palavra.issubset(conjunto_letras_digitadas)) and erros < 7: \n",
        "  print()\n",
        "  print()\n",
        "  letra_digitada = input('Digite uma letra: ').upper()\n",
        "  conjunto_letras_digitadas.add(letra_digitada)\n",
        "  if letra_digitada in conjunto_letras_palavra:\n",
        "    print('A palavra é: ', end= '')\n",
        "    for letra in palavra:\n",
        "      if letra in conjunto_letras_digitadas:\n",
        "        print(f'{letra} ', end='')\n",
        "      else:\n",
        "        print(' _ ', end=' ')\n",
        "  else:\n",
        "    erros +=1\n",
        "    print(f'-> Erro {erros} de 6. Tente de novo!')\n",
        "\n",
        "  print()\n",
        "  print('Letras já digitadas: ',conjunto_letras_digitadas)\n",
        "\n",
        "if erros < 7:\n",
        "  print('Parabéns, você ganho!')\n",
        "else:\n",
        "  print('Infelizmente você perdeu!')"
      ],
      "execution_count": null,
      "outputs": []
    },
    {
      "cell_type": "markdown",
      "metadata": {
        "id": "BrH8tm32h6yM"
      },
      "source": [
        "[Exercicio 10](https://wiki.python.org.br/ExerciciosClasses)\n"
      ]
    },
    {
      "cell_type": "code",
      "metadata": {
        "id": "HsVOWh_WhpxO"
      },
      "source": [
        "class BombaCombustivel:\n",
        "  def __init__(self, tipo_combustivel:str, valor_litro: float, quantidade_combustivel: float):\n",
        "    self.valor_litro = valor_litro\n",
        "    self.tipo_combustivel = tipo_combustivel\n",
        "    self.quantidade_combustivel = quantidade_combustivel\n",
        "\n",
        "  def abastecer_por_valor(self, valor:float):\n",
        "    litros_abastecidos = valor / self.valor_litro\n",
        "    self._apresentar_abastecimento_se_possivel(litros_abastecidos, valor)\n",
        "\n",
        "  def _apresentar_abastecimento_se_possivel(self, litros_abastecidos:float,valor:float):\n",
        "    if litros_abastecidos > self.quantidade_combustivel:\n",
        "      print(f'Não é possivel abastecer, faltam abastecer {litros_abastecidos - self.quantidade_combustivel:.2f} litros.')\n",
        "      print('Reabasteça a bomba')\n",
        "    else:\n",
        "      self.quantidade_combustivel -= litros_abastecidos \n",
        "      print(f'Foram abastecidos {litros_abastecidos:.2f} litros a um valor de R$ {valor:.2f}')\n",
        "      print(f'Sobraram na bomba: {self.quantidade_combustivel:.2f} litros de {self.tipo_combustivel}.')\n",
        "\n",
        "  def abastecer_por_litros(self, litros_abastecidos:float):\n",
        "    valor = litros_abastecidos *  self.valor_litro\n",
        "    self ._apresentar_abastecimento_se_possivel(litros_abastecidos, valor) \n",
        "  \n",
        "  def adicionar_mais_combustivel(self, quantidade:float):\n",
        "    if quantidade >= 0:\n",
        "      self.quantidade_combustivel += quantidade\n",
        "    else:\n",
        "      print('Malandrinho, você não vai roubar combustivel dessa bomba!')\n",
        "\n",
        "\n",
        "bomba = BombaCombustivel('Gasolina', 4.59, 100.0)\n",
        "\n",
        "bomba.abastecer_por_valor(100)\n",
        "\n",
        "bomba.abastecer_por_litros(50)\n",
        "\n",
        "bomba.valor_litro = 5.59\n",
        "bomba.abastecer_por_litros(50)\n",
        "\n",
        "bomba.adicionar_mais_combustivel(100)\n",
        "bomba.abastecer_por_litros(50)\n",
        "\n",
        "bomba.adicionar_mais_combustivel(-100)"
      ],
      "execution_count": null,
      "outputs": []
    },
    {
      "cell_type": "markdown",
      "metadata": {
        "id": "NUEqCO5AjRbz"
      },
      "source": [
        "[Lista de Exercicios Projetos](https://wiki.python.org.br/ListaDeExerciciosProjetos)"
      ]
    },
    {
      "cell_type": "code",
      "metadata": {
        "id": "IrHLsxO5jbhO"
      },
      "source": [
        "lista_de_dados=[]\n",
        "\n",
        "def transformar_em_megabytes(tamanho_em_bytes:str) -> float:\n",
        "  return int(tamanho_em_bytes)/ (2**10) **2\n",
        "\n",
        "with open('sample_data/usuarios.txt','r') as arquivo:\n",
        "  for linha in arquivo:\n",
        "    linha = linha.strip()\n",
        "    usuario = linha [:15]\n",
        "    tamanho_em_disco = transformar_em_megabytes(linha[16:])\n",
        "    lista_de_dados.append((tamanho_em_disco, usuario))\n",
        "\n",
        "\n",
        "cabecalho='''ACME Inc.               Uso do espaço em disco pelos usuários\n",
        "------------------------------------------------------------------------\n",
        "Nr.  Usuário        Espaço utilizado     % do uso\n",
        "\n",
        "'''\n",
        "n = int(input('Digite o numero de usuarios a serem exibidos: '))\n",
        "\n",
        "\n",
        "lista_de_dados.sort(reverse=True)\n",
        "lista_de_dados = lista_de_dados [:n]\n",
        "\n",
        "with open('sample_data/relatorio.txt','w') as arquivo: \n",
        "  tamanho_total_consumido = sum([tamanho for tamanho,_ in lista_de_dados])\n",
        "  media = tamanho_total_consumido / len(lista_de_dados)\n",
        "  arquivo.writelines(cabecalho)\n",
        "  for indice,dados in enumerate(lista_de_dados, start = 1):\n",
        "    tamanho_em_disco, usuario = dados\n",
        "    arquivo.writelines(\n",
        "        f'{indice:<4} {usuario} {tamanho_em_disco:9.2f} MB          '\n",
        "        f'{tamanho_em_disco/tamanho_total_consumido:>6.2%}\\n'\n",
        "        )\n",
        "  arquivo.writelines('\\n')\n",
        "  arquivo.writelines(f'Espaço total ocupado: {tamanho_total_consumido:.2f}\\n')\n",
        "  arquivo.writelines(f'Espaço médio ocupado: {media:.2f} MB')"
      ],
      "execution_count": null,
      "outputs": []
    }
  ]
}